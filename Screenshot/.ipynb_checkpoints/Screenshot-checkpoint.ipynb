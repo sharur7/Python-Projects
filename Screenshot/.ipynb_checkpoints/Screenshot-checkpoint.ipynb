{
 "cells": [
  {
   "cell_type": "code",
   "execution_count": 6,
   "metadata": {},
   "outputs": [],
   "source": [
    "import time\n",
    "import pyautogui\n",
    "import tkinter as tk"
   ]
  },
  {
   "cell_type": "code",
   "execution_count": 7,
   "metadata": {},
   "outputs": [],
   "source": [
    "def screenshot():\n",
    "    name = int(round(time.time() * 1000))\n",
    "    name = 'C:/Users/Sharvari/Desktop/Python Projects/Screenshot/Images/{}.png'.format(name)\n",
    "    #time.sleep(5)\n",
    "    img = pyautogui.screenshot(name)\n",
    "    img.show()"
   ]
  },
  {
   "cell_type": "code",
   "execution_count": 8,
   "metadata": {},
   "outputs": [],
   "source": [
    "root= tk.Tk()\n",
    "frame = tk.Frame(root)\n",
    "frame.pack()"
   ]
  },
  {
   "cell_type": "code",
   "execution_count": 9,
   "metadata": {},
   "outputs": [],
   "source": [
    "button = tk.Button(\n",
    "frame,\n",
    "text=\"Take Screenshot\",\n",
    "command=screenshot)\n",
    "button.pack(side=tk.LEFT)\n",
    "\n",
    "#close = tk.Button(\n",
    "#frame,\n",
    "#text=\"Close\",\n",
    "#command=quit)\n",
    "#close.pack(side=tk.LEFT)\n",
    "\n",
    "root.mainloop()"
   ]
  }
 ],
 "metadata": {
  "kernelspec": {
   "display_name": "Python 3",
   "language": "python",
   "name": "python3"
  },
  "language_info": {
   "codemirror_mode": {
    "name": "ipython",
    "version": 3
   },
   "file_extension": ".py",
   "mimetype": "text/x-python",
   "name": "python",
   "nbconvert_exporter": "python",
   "pygments_lexer": "ipython3",
   "version": "3.7.6"
  }
 },
 "nbformat": 4,
 "nbformat_minor": 4
}
